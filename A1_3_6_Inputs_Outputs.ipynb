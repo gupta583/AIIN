{
  "nbformat": 4,
  "nbformat_minor": 0,
  "metadata": {
    "kernelspec": {
      "display_name": "Python 3",
      "language": "python",
      "name": "python3"
    },
    "language_info": {
      "codemirror_mode": {
        "name": "ipython",
        "version": 3
      },
      "file_extension": ".py",
      "mimetype": "text/x-python",
      "name": "python",
      "nbconvert_exporter": "python",
      "pygments_lexer": "ipython3",
      "version": "3.7.3"
    },
    "colab": {
      "name": "A1.3.6 - Inputs-Outputs.ipynb",
      "provenance": [],
      "collapsed_sections": [],
      "include_colab_link": true
    }
  },
  "cells": [
    {
      "cell_type": "markdown",
      "metadata": {
        "id": "view-in-github",
        "colab_type": "text"
      },
      "source": [
        "<a href=\"https://colab.research.google.com/github/gupta583/AIIN/blob/master/A1_3_6_Inputs_Outputs.ipynb\" target=\"_parent\"><img src=\"https://colab.research.google.com/assets/colab-badge.svg\" alt=\"Open In Colab\"/></a>"
      ]
    },
    {
      "cell_type": "markdown",
      "metadata": {
        "id": "QJgcDSIcCM6x",
        "colab_type": "text"
      },
      "source": [
        "<h1 align=center><font size=5>Inputs and Outputs in Python</font></h1>"
      ]
    },
    {
      "cell_type": "markdown",
      "metadata": {
        "id": "L4Fz70HlCM60",
        "colab_type": "text"
      },
      "source": [
        "## Table of contents\n",
        "\n",
        "- [Inputs and Outputs (I/O)](#io)\n",
        "    - [Single input](#si)\n",
        "    - [Multiple inputs](#mi)\n",
        "- [File I/O](#fio)"
      ]
    },
    {
      "cell_type": "markdown",
      "metadata": {
        "id": "vfThw5UsCM62",
        "colab_type": "text"
      },
      "source": [
        "### Inputs and Outputs (I/O) <a id = 'io'></a>"
      ]
    },
    {
      "cell_type": "markdown",
      "metadata": {
        "id": "wllkvHquCM67",
        "colab_type": "text"
      },
      "source": [
        "#### Single input <a id = 'si'></a>"
      ]
    },
    {
      "cell_type": "code",
      "metadata": {
        "id": "bh3JJ0LYCM6_",
        "colab_type": "code",
        "colab": {}
      },
      "source": [
        "x = input()\n",
        "\n",
        "print('Your input is:', x)"
      ],
      "execution_count": null,
      "outputs": []
    },
    {
      "cell_type": "code",
      "metadata": {
        "id": "VLbZWU42CM7K",
        "colab_type": "code",
        "colab": {}
      },
      "source": [
        "val = input(\"Enter your value:\") \n",
        "print(val) "
      ],
      "execution_count": null,
      "outputs": []
    },
    {
      "cell_type": "markdown",
      "metadata": {
        "id": "9wVE0tpOCM7Q",
        "colab_type": "text"
      },
      "source": [
        "#### Multiple inputs <a id = 'mi'></a>"
      ]
    },
    {
      "cell_type": "code",
      "metadata": {
        "id": "hsmbw8GiCM7R",
        "colab_type": "code",
        "colab": {}
      },
      "source": [
        "# Taking multiple inputs from user\n",
        "\n",
        "val1, val2 = input(\"Enter two values:\").split()\n",
        "\n",
        "print('Your 1st value:', val1) \n",
        "print('Your 2nd value:', val2) "
      ],
      "execution_count": null,
      "outputs": []
    },
    {
      "cell_type": "code",
      "metadata": {
        "id": "bLXDDOXxCM7Z",
        "colab_type": "code",
        "colab": {}
      },
      "source": [
        "#val = list(map(int, input(\"Enter a multiple value: \").split())) \n",
        "\n",
        "val = list(input(\"Enter a multiple value:\").split())\n",
        "\n",
        "print(\"List of values: \", val) "
      ],
      "execution_count": null,
      "outputs": []
    },
    {
      "cell_type": "markdown",
      "metadata": {
        "id": "eOWiI6e7CM7e",
        "colab_type": "text"
      },
      "source": [
        "Given the meal price (base cost of a meal) in float format, tip percent (the percentage of the meal price being added as tip) in integer format, and tax percent (the percentage of the meal price being added as tax) in integer format for a meal, find and print the meal's total cost to the nearest dollar (integer)."
      ]
    },
    {
      "cell_type": "code",
      "metadata": {
        "id": "HcELVtvACM7g",
        "colab_type": "code",
        "colab": {}
      },
      "source": [
        ""
      ],
      "execution_count": null,
      "outputs": []
    },
    {
      "cell_type": "markdown",
      "metadata": {
        "id": "6tfWIH_BCM7r",
        "colab_type": "text"
      },
      "source": [
        "### File I/O <a id = 'fio'></a>"
      ]
    },
    {
      "cell_type": "code",
      "metadata": {
        "id": "pUaJeeYRexKV",
        "colab_type": "code",
        "colab": {}
      },
      "source": [
        "fname = 'myfile.txt'\n",
        "file = open(fname, 'w')\n",
        "L = ['1 \\t a\\n', '2 \\t b\\n', '3 \\t c\\n'] \n",
        "file.writelines(L)  \n",
        "file.close()"
      ],
      "execution_count": null,
      "outputs": []
    },
    {
      "cell_type": "code",
      "metadata": {
        "id": "vX2HT-ukCM7t",
        "colab_type": "code",
        "colab": {
          "base_uri": "https://localhost:8080/",
          "height": 90
        },
        "outputId": "cd085ab4-73f1-4658-aa12-534e15aa2d90"
      },
      "source": [
        "fname = 'myfile.txt'\n",
        "file = open(fname, 'r')\n",
        "data = file.read()\n",
        "file.close()\n",
        "\n",
        "print(data)"
      ],
      "execution_count": null,
      "outputs": [
        {
          "output_type": "stream",
          "text": [
            "1 \t a\n",
            "2 \t b\n",
            "3 \t c\n",
            "\n"
          ],
          "name": "stdout"
        }
      ]
    },
    {
      "cell_type": "code",
      "metadata": {
        "id": "zN-ClL4LCM76",
        "colab_type": "code",
        "colab": {
          "base_uri": "https://localhost:8080/",
          "height": 90
        },
        "outputId": "602e9720-3c36-4e32-af8e-a819b8a07e3d"
      },
      "source": [
        "with open(fname, 'r') as file:\n",
        "    data = file.read()\n",
        "print(data)"
      ],
      "execution_count": null,
      "outputs": [
        {
          "output_type": "stream",
          "text": [
            "1 \t a\n",
            "2 \t b\n",
            "3 \t c\n",
            "\n"
          ],
          "name": "stdout"
        }
      ]
    },
    {
      "cell_type": "code",
      "metadata": {
        "id": "-MiZoweZCM8F",
        "colab_type": "code",
        "colab": {
          "base_uri": "https://localhost:8080/",
          "height": 143
        },
        "outputId": "3b8d8511-fa94-4e21-b4ac-0a47b293f963"
      },
      "source": [
        "import pandas as pd\n",
        "\n",
        "df = pd.read_csv(fname, delimiter= '\\t', header=None, names=['col1','col2'])\n",
        "df"
      ],
      "execution_count": null,
      "outputs": [
        {
          "output_type": "execute_result",
          "data": {
            "text/html": [
              "<div>\n",
              "<style scoped>\n",
              "    .dataframe tbody tr th:only-of-type {\n",
              "        vertical-align: middle;\n",
              "    }\n",
              "\n",
              "    .dataframe tbody tr th {\n",
              "        vertical-align: top;\n",
              "    }\n",
              "\n",
              "    .dataframe thead th {\n",
              "        text-align: right;\n",
              "    }\n",
              "</style>\n",
              "<table border=\"1\" class=\"dataframe\">\n",
              "  <thead>\n",
              "    <tr style=\"text-align: right;\">\n",
              "      <th></th>\n",
              "      <th>col1</th>\n",
              "      <th>col2</th>\n",
              "    </tr>\n",
              "  </thead>\n",
              "  <tbody>\n",
              "    <tr>\n",
              "      <th>0</th>\n",
              "      <td>1</td>\n",
              "      <td>a</td>\n",
              "    </tr>\n",
              "    <tr>\n",
              "      <th>1</th>\n",
              "      <td>2</td>\n",
              "      <td>b</td>\n",
              "    </tr>\n",
              "    <tr>\n",
              "      <th>2</th>\n",
              "      <td>3</td>\n",
              "      <td>c</td>\n",
              "    </tr>\n",
              "  </tbody>\n",
              "</table>\n",
              "</div>"
            ],
            "text/plain": [
              "   col1 col2\n",
              "0     1    a\n",
              "1     2    b\n",
              "2     3    c"
            ]
          },
          "metadata": {
            "tags": []
          },
          "execution_count": 5
        }
      ]
    },
    {
      "cell_type": "code",
      "metadata": {
        "id": "gViGW_nLP6ct",
        "colab_type": "code",
        "colab": {}
      },
      "source": [
        ""
      ],
      "execution_count": null,
      "outputs": []
    }
  ]
}