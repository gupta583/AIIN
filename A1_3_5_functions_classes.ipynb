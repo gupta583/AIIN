{
  "nbformat": 4,
  "nbformat_minor": 0,
  "metadata": {
    "kernelspec": {
      "display_name": "Python 3",
      "language": "python",
      "name": "python3"
    },
    "language_info": {
      "codemirror_mode": {
        "name": "ipython",
        "version": 3
      },
      "file_extension": ".py",
      "mimetype": "text/x-python",
      "name": "python",
      "nbconvert_exporter": "python",
      "pygments_lexer": "ipython3",
      "version": "3.7.3"
    },
    "colab": {
      "name": "A1.3.5 - functions-classes.ipynb",
      "provenance": [],
      "collapsed_sections": [],
      "include_colab_link": true
    }
  },
  "cells": [
    {
      "cell_type": "markdown",
      "metadata": {
        "id": "view-in-github",
        "colab_type": "text"
      },
      "source": [
        "<a href=\"https://colab.research.google.com/github/gupta583/AIIN/blob/master/A1_3_5_functions_classes.ipynb\" target=\"_parent\"><img src=\"https://colab.research.google.com/assets/colab-badge.svg\" alt=\"Open In Colab\"/></a>"
      ]
    },
    {
      "cell_type": "markdown",
      "metadata": {
        "id": "BBTnzE6kBqER",
        "colab_type": "text"
      },
      "source": [
        "<h1 align=center><font size=5>Functions and Classes in Python</font></h1>"
      ]
    },
    {
      "cell_type": "markdown",
      "metadata": {
        "id": "Qo136eykBqEU",
        "colab_type": "text"
      },
      "source": [
        "## Table of contents\n",
        "\n",
        "- [Functions](#line)\n",
        "- [Classes](#class)\n",
        "    - [How to create a class](#how_clas)\n",
        "    - [Attributes in class](#attr)\n",
        "    - [Methods in class](#methods)\n",
        "    - [The init method](#init)"
      ]
    },
    {
      "cell_type": "markdown",
      "metadata": {
        "id": "EoD5KGahBqEW",
        "colab_type": "text"
      },
      "source": [
        "### Functions <a id = 'func'></a>"
      ]
    },
    {
      "cell_type": "markdown",
      "metadata": {
        "id": "2t8iRb1kBqEY",
        "colab_type": "text"
      },
      "source": [
        "#### How to create a function <a id = 'how_func'></a>"
      ]
    },
    {
      "cell_type": "code",
      "metadata": {
        "id": "IKkl5LQxBqEa",
        "colab_type": "code",
        "colab": {
          "base_uri": "https://localhost:8080/",
          "height": 34
        },
        "outputId": "0f08abd7-fc7a-4d7e-8d2c-7d61d699bbc0"
      },
      "source": [
        "def Car(n):\n",
        "    print('My car is Toyota!'+n)\n",
        "\n",
        "Car('health ')"
      ],
      "execution_count": null,
      "outputs": [
        {
          "output_type": "stream",
          "text": [
            "My car is Toyota!\n"
          ],
          "name": "stdout"
        }
      ]
    },
    {
      "cell_type": "code",
      "metadata": {
        "id": "7tHln9nDBqEl",
        "colab_type": "code",
        "colab": {
          "base_uri": "https://localhost:8080/",
          "height": 34
        },
        "outputId": "b54c519f-568d-4acb-cc1a-058a5939303c"
      },
      "source": [
        "def Car(carname):\n",
        "    print('My car is ' + carname + '!')\n",
        "\n",
        "Car('Ford')"
      ],
      "execution_count": null,
      "outputs": [
        {
          "output_type": "stream",
          "text": [
            "My car is Ford!\n"
          ],
          "name": "stdout"
        }
      ]
    },
    {
      "cell_type": "markdown",
      "metadata": {
        "id": "EK9KFbYMBqEq",
        "colab_type": "text"
      },
      "source": [
        "Write a *Car* function with *price* as a parameter that performs the following conditional actions:\n",
        "- if *price*  is above 20,000, print \"It is expensive!\".\n",
        "- if *price* is less than 20,000 and above 10,000 print \"It is reasonable!\".\n",
        "- Otherwise, print \"It is cheap!\"."
      ]
    },
    {
      "cell_type": "code",
      "metadata": {
        "id": "TQDSmJ1aBqEt",
        "colab_type": "code",
        "colab": {}
      },
      "source": [
        "def Car(price):\n",
        "    if price >= 20000:\n",
        "        print(\"It is expensive!\")\n",
        "    elif price >= 10000:\n",
        "        print(\"It is reasonable!\") \n",
        "    else:\n",
        "        print(\"It is cheap!\")  \n",
        "\n",
        "price = 9000        \n",
        "Car(price) "
      ],
      "execution_count": null,
      "outputs": []
    },
    {
      "cell_type": "markdown",
      "metadata": {
        "id": "92eryx9RBqEz",
        "colab_type": "text"
      },
      "source": [
        "Write a function to compute factorial of a number. The factorial of a number is the product of all the integers from 1 to that number."
      ]
    },
    {
      "cell_type": "code",
      "metadata": {
        "id": "X8HyOB5GBqE1",
        "colab_type": "code",
        "colab": {}
      },
      "source": [
        "def factorial(x):\n",
        "    f = 1\n",
        "    \n",
        "    for i in range(1,x+1):\n",
        "        f = f*i\n",
        "    return f\n",
        "\n",
        "factorial(4)"
      ],
      "execution_count": null,
      "outputs": []
    },
    {
      "cell_type": "markdown",
      "metadata": {
        "id": "amUlPQ9sBqE7",
        "colab_type": "text"
      },
      "source": [
        "### Classes <a id = 'class'></a>"
      ]
    },
    {
      "cell_type": "markdown",
      "metadata": {
        "id": "PaCzyuqABqE8",
        "colab_type": "text"
      },
      "source": [
        "#### How to create a class <a id = 'how_class'></a>"
      ]
    },
    {
      "cell_type": "code",
      "metadata": {
        "id": "JIsVtwBsBqE-",
        "colab_type": "code",
        "colab": {}
      },
      "source": [
        "class Car:\n",
        "    pass\n",
        "\n",
        "car = Car() # instantiate the class Car and assign it to the variable car\n",
        "print(car)"
      ],
      "execution_count": null,
      "outputs": []
    },
    {
      "cell_type": "markdown",
      "metadata": {
        "id": "SoNccBEWBqFB",
        "colab_type": "text"
      },
      "source": [
        "#### Attributes in class <a id = 'attr'></a>"
      ]
    },
    {
      "cell_type": "code",
      "metadata": {
        "id": "G1BeiOMvBqFB",
        "colab_type": "code",
        "colab": {}
      },
      "source": [
        "class Car:\n",
        "    name = \"Toyota\" # set an attribute `name` of the class\n",
        "\n",
        "car = Car() \n",
        "\n",
        "print(car.name) # access the class attribute name inside the class Car"
      ],
      "execution_count": null,
      "outputs": []
    },
    {
      "cell_type": "markdown",
      "metadata": {
        "id": "bLIBNSr8BqFH",
        "colab_type": "text"
      },
      "source": [
        "#### Methods in class <a id = 'methods'></a>"
      ]
    },
    {
      "cell_type": "code",
      "metadata": {
        "id": "KvMZmVGVBqFJ",
        "colab_type": "code",
        "colab": {
          "base_uri": "https://localhost:8080/",
          "height": 50
        },
        "outputId": "3ade86a7-9f91-46bf-8c0a-ce1b440fa112"
      },
      "source": [
        "class Car:\n",
        "    name = \"Toyota\"\n",
        "    \n",
        "    def change_name(self, new_name): # note that the first argument is self\n",
        "        self.name = new_name # access the class attribute with the self keyword\n",
        "\n",
        "        \n",
        "car = Car() \n",
        "\n",
        "print(car.name)\n",
        "\n",
        "car.change_name(\"Ford\")\n",
        "print(car.name)        "
      ],
      "execution_count": null,
      "outputs": [
        {
          "output_type": "stream",
          "text": [
            "Toyota\n",
            "Ford\n"
          ],
          "name": "stdout"
        }
      ]
    },
    {
      "cell_type": "code",
      "metadata": {
        "id": "gARpKAVuBqFP",
        "colab_type": "code",
        "colab": {}
      },
      "source": [
        "class Car:\n",
        "    self.name = \"Toyota\"\n",
        "\n",
        "        \n",
        "car = Car() \n",
        "\n",
        "print(car.name)"
      ],
      "execution_count": null,
      "outputs": []
    },
    {
      "cell_type": "markdown",
      "metadata": {
        "id": "io0P5guaBqFW",
        "colab_type": "text"
      },
      "source": [
        "#### The init method <a id = 'init'></a>"
      ]
    },
    {
      "cell_type": "code",
      "metadata": {
        "id": "rOVYvlizBqFW",
        "colab_type": "code",
        "colab": {}
      },
      "source": [
        "class Car:\n",
        "    \n",
        "    def __init__(self, name): # In order to provide values for the attributes at runtime\n",
        "        self.name = name\n",
        "        \n",
        "    def change_name(self, new_name): \n",
        "        self.name = new_name\n",
        "\n",
        "car_t = Car('Toyota') \n",
        "print(car_t.name)\n",
        "\n",
        "car_f = Car('Ford') \n",
        "print(car_f.name)\n",
        "\n",
        "car_f.change_name(\"Benz\")\n",
        "print(car_f.name)  "
      ],
      "execution_count": null,
      "outputs": []
    },
    {
      "cell_type": "markdown",
      "metadata": {
        "id": "ARr4Lb2PBqFb",
        "colab_type": "text"
      },
      "source": [
        "Write a *Car* class with an instance variable, *price*, and a constructor that takes a float, *base_price*, as a parameter. The constructor must assign *base_price* to *price* after confirming the argument passed as *base_price* is not negative; if a negative argument is passed as *base_price*, the constructor should set *price* to 0 and print \"*price* is not valid, setting *price* to 0\". In addition, write *Is_it_expensive()* instance method that performs the following conditional actions:\n",
        "- if *price*  is above 20,000, print \"It is expensive!\".\n",
        "- if *price* is less than 20,000 and above 10,000 print \"It is reasonable!\".\n",
        "- Otherwise, print \"It is cheap!\"."
      ]
    },
    {
      "cell_type": "code",
      "metadata": {
        "id": "VUk9vRBEBqFd",
        "colab_type": "code",
        "colab": {}
      },
      "source": [
        "class Car:\n",
        "    def __init__(self, base_price):\n",
        "        if base_price > 0:\n",
        "            self.price = base_price\n",
        "        else:\n",
        "            print(\"price is not valid, setting price to 0\")\n",
        "            self.price = 0   \n",
        "    \n",
        "    def Is_it_expensive(self):\n",
        "        \n",
        "        if self.price >= 20000:\n",
        "            print(\"It is expensive!\")\n",
        "        elif self.price >= 10000:\n",
        "            print(\"It is reasonable!\") \n",
        "        else:\n",
        "            print(\"It is cheap!\")  \n",
        "\n",
        "price = 11000        \n",
        "car = Car(price) \n",
        "car.Is_it_expensive()"
      ],
      "execution_count": null,
      "outputs": []
    }
  ]
}